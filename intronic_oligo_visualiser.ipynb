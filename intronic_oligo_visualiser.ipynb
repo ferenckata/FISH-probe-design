{
 "cells": [
  {
   "cell_type": "code",
   "execution_count": null,
   "metadata": {
    "collapsed": true
   },
   "outputs": [],
   "source": [
    "# create bed file of intronic probes"
   ]
  },
  {
   "cell_type": "code",
   "execution_count": 1,
   "metadata": {
    "collapsed": true
   },
   "outputs": [],
   "source": [
    "import re, os"
   ]
  },
  {
   "cell_type": "code",
   "execution_count": 3,
   "metadata": {
    "collapsed": true
   },
   "outputs": [],
   "source": [
    "p = re.compile('>')"
   ]
  },
  {
   "cell_type": "code",
   "execution_count": 5,
   "metadata": {},
   "outputs": [],
   "source": [
    "with open('pou5f1/bed_version.txt','r') as introns:\n",
    "    ilist=[]\n",
    "    for intron in introns:\n",
    "        ilist.append(intron.split('\\t')[1])          "
   ]
  },
  {
   "cell_type": "code",
   "execution_count": 6,
   "metadata": {},
   "outputs": [
    {
     "data": {
      "text/plain": [
       "['31164867', '31165286', '31167170', '31169932', '31170693']"
      ]
     },
     "execution_count": 6,
     "metadata": {},
     "output_type": "execute_result"
    }
   ],
   "source": [
    "ilist"
   ]
  },
  {
   "cell_type": "code",
   "execution_count": 12,
   "metadata": {},
   "outputs": [],
   "source": [
    "with open('pou5f1/chosen_oligos.fa','r') as oligos:\n",
    "    with open('pou5f1/oligo_coord.bed','a') as obed:\n",
    "        for oligo in oligos:\n",
    "            if p.match(oligo):\n",
    "                ocoord = int(ilist[int(oligo.split('_')[1].split(':')[0])-1]) + int(oligo.split('_')[1].split(':')[1])\n",
    "                line = 'chr6\\t'+str(ocoord)+'\\t' + str(ocoord+29) + '\\t' + oligo.split('_')[1].split(':')[0] +':'+oligo.split('_')[1].split(':')[1] + '\\t0\\t+\\t'+str(ocoord)+'\\t' + str(ocoord+29) + '\\t255,0,0\\n' \n",
    "                obed.write(line)"
   ]
  }
 ],
 "metadata": {
  "kernelspec": {
   "display_name": "Python 3",
   "language": "python",
   "name": "python3"
  },
  "language_info": {
   "codemirror_mode": {
    "name": "ipython",
    "version": 3
   },
   "file_extension": ".py",
   "mimetype": "text/x-python",
   "name": "python",
   "nbconvert_exporter": "python",
   "pygments_lexer": "ipython3",
   "version": "3.6.1"
  }
 },
 "nbformat": 4,
 "nbformat_minor": 2
}
